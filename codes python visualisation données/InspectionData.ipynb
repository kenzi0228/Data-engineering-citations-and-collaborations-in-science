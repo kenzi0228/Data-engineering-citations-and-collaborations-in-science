# -*- coding: utf-8 -*-
"""
Created on Sun Apr 21 00:38:24 2024

@author: Kenzi
"""

import pandas as pd
import os

# Obtenir le chemin du répertoire du script
current_dir = os.path.dirname(os.path.abspath(__file__))

# Construire le chemin relatif pour le fichier JSON
input_json_path = os.path.join(current_dir, '..', 'Dataset', 'Split_7_filtré.json')

# Charger les données JSON dans un DataFrame
data = pd.read_json(input_json_path)

# Afficher les données
print(data)
